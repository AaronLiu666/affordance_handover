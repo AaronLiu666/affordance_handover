{
 "cells": [
  {
   "cell_type": "code",
   "execution_count": 1,
   "metadata": {},
   "outputs": [
    {
     "name": "stdout",
     "output_type": "stream",
     "text": [
      "Jupyter environment detected. Enabling Open3D WebVisualizer.\n",
      "[Open3D INFO] WebRTC GUI backend enabled.\n",
      "[Open3D INFO] WebRTCWindowSystem: HTTP handshake server disabled.\n"
     ]
    },
    {
     "name": "stderr",
     "output_type": "stream",
     "text": [
      "2024-07-20 18:02:44.975101: I tensorflow/stream_executor/platform/default/dso_loader.cc:53] Successfully opened dynamic library libcudart.so.11.0\n",
      "2024-07-20 18:02:45.383286: I tensorflow/stream_executor/platform/default/dso_loader.cc:53] Successfully opened dynamic library libcuda.so.1\n",
      "2024-07-20 18:02:45.383359: I tensorflow/stream_executor/cuda/cuda_gpu_executor.cc:937] successful NUMA node read from SysFS had negative value (-1), but there must be at least one NUMA node, so returning NUMA node zero\n",
      "2024-07-20 18:02:45.385203: I tensorflow/core/common_runtime/gpu/gpu_device.cc:1733] Found device 0 with properties: \n",
      "pciBusID: 0000:01:00.0 name: NVIDIA GeForce RTX 4090 computeCapability: 8.9\n",
      "coreClock: 2.535GHz coreCount: 128 deviceMemorySize: 23.54GiB deviceMemoryBandwidth: 938.86GiB/s\n",
      "2024-07-20 18:02:45.385218: I tensorflow/stream_executor/platform/default/dso_loader.cc:53] Successfully opened dynamic library libcudart.so.11.0\n",
      "2024-07-20 18:02:45.385238: I tensorflow/stream_executor/platform/default/dso_loader.cc:53] Successfully opened dynamic library libcublas.so.11\n",
      "2024-07-20 18:02:45.385248: I tensorflow/stream_executor/platform/default/dso_loader.cc:53] Successfully opened dynamic library libcublasLt.so.11\n",
      "2024-07-20 18:02:45.386093: I tensorflow/stream_executor/platform/default/dso_loader.cc:53] Successfully opened dynamic library libcufft.so.10\n",
      "2024-07-20 18:02:45.386229: I tensorflow/stream_executor/platform/default/dso_loader.cc:53] Successfully opened dynamic library libcurand.so.10\n",
      "2024-07-20 18:02:45.399377: I tensorflow/stream_executor/platform/default/dso_loader.cc:53] Successfully opened dynamic library libcusolver.so.11\n",
      "2024-07-20 18:02:45.399819: I tensorflow/stream_executor/platform/default/dso_loader.cc:53] Successfully opened dynamic library libcusparse.so.11\n",
      "2024-07-20 18:02:45.399891: I tensorflow/stream_executor/platform/default/dso_loader.cc:53] Successfully opened dynamic library libcudnn.so.8\n",
      "2024-07-20 18:02:45.399952: I tensorflow/stream_executor/cuda/cuda_gpu_executor.cc:937] successful NUMA node read from SysFS had negative value (-1), but there must be at least one NUMA node, so returning NUMA node zero\n",
      "2024-07-20 18:02:45.401790: I tensorflow/stream_executor/cuda/cuda_gpu_executor.cc:937] successful NUMA node read from SysFS had negative value (-1), but there must be at least one NUMA node, so returning NUMA node zero\n",
      "2024-07-20 18:02:45.403705: I tensorflow/core/common_runtime/gpu/gpu_device.cc:1871] Adding visible gpu devices: 0\n",
      "INFO - 2024-07-20 18:02:45,418 - acceleratesupport - No OpenGL_accelerate module loaded: No module named 'OpenGL_accelerate'\n"
     ]
    }
   ],
   "source": [
    "import numpy as np\n",
    "from sklearn.cluster import KMeans\n",
    "import matplotlib.pyplot as plt\n",
    "from sklearn.decomposition import PCA\n",
    "from sklearn.metrics import silhouette_score\n",
    "from contact_graspnet.contact_graspnet.grasp import *\n",
    "from contact_graspnet.contact_graspnet.my_grasp_api import generate_grasp\n",
    "import subprocess"
   ]
  },
  {
   "cell_type": "code",
   "execution_count": 2,
   "metadata": {},
   "outputs": [],
   "source": [
    "def kmeans_without_n(data):\n",
    "    # 确定最佳聚类数量\n",
    "    silhouette_scores = []\n",
    "    k_range = range(2, 11)  # 通常从2到10或更多\n",
    "\n",
    "    for k in k_range:\n",
    "        kmeans = KMeans(n_clusters=k, random_state=42)\n",
    "        kmeans.fit(data)\n",
    "        score = silhouette_score(data, kmeans.labels_)\n",
    "        silhouette_scores.append(score)\n",
    "\n",
    "    # 找到轮廓系数最高的聚类数量\n",
    "    best_k = k_range[np.argmax(silhouette_scores)]\n",
    "\n",
    "    # 用最佳聚类数量进行 K-means 聚类\n",
    "    kmeans = KMeans(n_clusters=best_k, random_state=42)\n",
    "    kmeans.fit(data)\n",
    "    labels = kmeans.labels_\n",
    "    centroids = kmeans.cluster_centers_\n",
    "\n",
    "    # according to labels seperate these grasps into different clusters and create a list of grasps in each cluster\n",
    "    clusters=[]\n",
    "    for i in range(best_k):\n",
    "        cluster=[]\n",
    "        clusters.append(cluster)\n",
    "    for i in range(len(labels)):\n",
    "        clusters[labels[i]].append(data[i])\n",
    "    if len(clusters) == best_k:\n",
    "        return best_k, clusters, labels\n",
    "    else:\n",
    "        return 0,0"
   ]
  },
  {
   "cell_type": "code",
   "execution_count": 3,
   "metadata": {},
   "outputs": [],
   "source": [
    "def generate_colors(number, labels):\n",
    "    # number: number of colors\n",
    "    # labels: labels of each point\n",
    "\n",
    "    start_color = (0, 0, 100)\n",
    "    end_color = (120, 120, 255)\n",
    "    \n",
    "    \n",
    "\n",
    "    base_colors = []\n",
    "    colors = []\n",
    "    for i in range(number+1):\n",
    "        t = i /( number+1)\n",
    "        r = (start_color[0] + t * (end_color[0] - start_color[0]))/255\n",
    "        g = (start_color[1] + t * (end_color[1] - start_color[1]))/255\n",
    "        b = (start_color[2] + t * (end_color[2] - start_color[2]))/255\n",
    "        base_colors.append((r,g,b))\n",
    "    for i in range(len(labels)):\n",
    "            colors.append(base_colors[labels[i]])\n",
    "    return colors, base_colors\n",
    "  "
   ]
  },
  {
   "cell_type": "code",
   "execution_count": 4,
   "metadata": {},
   "outputs": [],
   "source": [
    "def get_closest(points, point_cloud):\n",
    "    \n",
    "    points = np.array(points)\n",
    "    point_cloud = np.array(point_cloud)\n",
    "    # 计算距离矩阵\n",
    "    distances = np.linalg.norm(points[:, np.newaxis, :] - point_cloud[np.newaxis, :, :], axis=2)\n",
    "\n",
    "    # 找到距离最小的点的索引\n",
    "    closest_points_indices = np.argmin(distances, axis=1)\n",
    "\n",
    "    # 找到距离最小的点的坐标\n",
    "    closest_points = point_cloud[closest_points_indices]\n",
    "\n",
    "    # print(closest_points_indices)  # 打印最近点的索引\n",
    "    # print(closest_points)          # 打印最近点的坐标\n",
    "    return closest_points_indices\n"
   ]
  },
  {
   "cell_type": "code",
   "execution_count": null,
   "metadata": {},
   "outputs": [],
   "source": [
    "pc_path = '/home/mlx/GraspTTA/models/HO3D_Object_models/035_power_drill/resampled.npy'\n",
    "grasp_path='/home/mlx/handover_ws/grasp_data/grasps.npz'"
   ]
  },
  {
   "cell_type": "code",
   "execution_count": null,
   "metadata": {},
   "outputs": [],
   "source": [
    "if __name__ == '__main__':\n",
    "    pc_path = '/home/mlx/GraspTTA/models/HO3D_Object_models/035_power_drill/resampled.npy'\n",
    "    grasp_path='/home/mlx/handover_ws/grasp_data/grasps.npz'\n",
    "    # pointcloud, Ts = generate_grasp(pc_path)\n",
    "    # np.savez('/home/mlx/handover_ws/grasp_data/grasps.npz', grasp = Ts)\n",
    "\n",
    "    # cmd = subprocess.run(['python', 'contact_graspnet/contact_graspnet/my_grasp_api.py', '--pointcloud_path', pc_path, '--output_path', grasp_path])\n",
    "\n",
    "    # print(cmd.stdout)\n",
    "\n",
    "    pointcloud = np.load(pc_path)\n",
    "    angle = np.pi\n",
    "    R = np.array([[1,0,0],[0,np.cos(angle), -np.sin(angle)],[0,np.sin(angle), np.cos(angle)]])\n",
    "    pointcloud= np.dot(pointcloud, R.T)\n",
    "\n",
    "    file = np.load(grasp_path)\n",
    "    grasp_list = file['grasp']\n",
    "    print(len(grasp_list))\n",
    "    # grasp_list = Ts\n",
    "\n",
    "    data = grasp_list.reshape((200, 16))\n",
    "    print(len(data))\n",
    "    # data = data[:, 0 : 12]\n",
    "    \n",
    "    indices = [3,7,11]\n",
    "    data = [[row[i] for i in indices] for row in data]\n",
    "    # print(len(data))\n",
    "    # print(len(data[0]))\n",
    "    \n",
    "    closest_pc = get_closest(data, pointcloud)\n",
    "    \n",
    "    num_clusters, clusters, labels = kmeans_without_n(data)\n",
    "    print(num_clusters)\n",
    "    # print(type(clusters[0][0]))\n",
    "    # print(clusters[0][0])\n",
    "    \n",
    "    colors, base_colors = generate_colors(num_clusters, labels)\n",
    "    print(base_colors)\n",
    "    print(len(colors))\n",
    "    \n",
    "    draw_scene(pointcloud, grasps_list, grasp_colors=colors, save_dir='/home/mlx/handover_ws/cluster/test.png')\n",
    "    # draw_scene(pointcloud, grasp_list, grasp_colors=colors)"
   ]
  }
 ],
 "metadata": {
  "kernelspec": {
   "display_name": "contact_graspnet_env",
   "language": "python",
   "name": "python3"
  },
  "language_info": {
   "codemirror_mode": {
    "name": "ipython",
    "version": 3
   },
   "file_extension": ".py",
   "mimetype": "text/x-python",
   "name": "python",
   "nbconvert_exporter": "python",
   "pygments_lexer": "ipython3",
   "version": "3.7.9"
  }
 },
 "nbformat": 4,
 "nbformat_minor": 2
}
